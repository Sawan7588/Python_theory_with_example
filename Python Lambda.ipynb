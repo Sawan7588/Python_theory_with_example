{
 "cells": [
  {
   "cell_type": "markdown",
   "id": "b364295e",
   "metadata": {},
   "source": [
    "A lambda function is a small anonymous function.\n",
    "\n",
    "A lambda function can take any number of arguments, but can only have one expression."
   ]
  },
  {
   "cell_type": "markdown",
   "id": "a8e18501",
   "metadata": {},
   "source": [
    "#### Syntax"
   ]
  },
  {
   "cell_type": "markdown",
   "id": "77a7bfd8",
   "metadata": {},
   "source": [
    "lambda arguments : expression"
   ]
  },
  {
   "cell_type": "code",
   "execution_count": 1,
   "id": "99206a1a",
   "metadata": {},
   "outputs": [
    {
     "name": "stdout",
     "output_type": "stream",
     "text": [
      "15\n"
     ]
    }
   ],
   "source": [
    "x = lambda a : a + 10\n",
    "print(x(5))"
   ]
  },
  {
   "cell_type": "markdown",
   "id": "791b08b5",
   "metadata": {},
   "source": [
    "#### Multiply argument a with argument b and return the result:"
   ]
  },
  {
   "cell_type": "code",
   "execution_count": 2,
   "id": "c409193f",
   "metadata": {},
   "outputs": [
    {
     "name": "stdout",
     "output_type": "stream",
     "text": [
      "20\n"
     ]
    }
   ],
   "source": [
    "x = lambda a,b : a*b\n",
    "print(x(4,5))"
   ]
  },
  {
   "cell_type": "markdown",
   "id": "d3ed2b51",
   "metadata": {},
   "source": [
    "#### Summarize argument a, b, and c and return the result:"
   ]
  },
  {
   "cell_type": "code",
   "execution_count": 3,
   "id": "c9f0c34d",
   "metadata": {},
   "outputs": [
    {
     "name": "stdout",
     "output_type": "stream",
     "text": [
      "6\n"
     ]
    }
   ],
   "source": [
    "x = lambda a,b,c : a+b+c\n",
    "print(x(1,2,3))"
   ]
  },
  {
   "cell_type": "markdown",
   "id": "4f01ed20",
   "metadata": {},
   "source": [
    "### Why Use Lambda Functions?\n",
    "The power of lambda is better shown when you use them as an anonymous function inside another function.\n",
    "\n",
    "Say you have a function definition that takes one argument, and that argument will be multiplied with an unknown number:"
   ]
  },
  {
   "cell_type": "code",
   "execution_count": 4,
   "id": "f1c5e7db",
   "metadata": {},
   "outputs": [
    {
     "name": "stdout",
     "output_type": "stream",
     "text": [
      "22\n"
     ]
    }
   ],
   "source": [
    "\n",
    "\n",
    "def myfunc(n):\n",
    "    return lambda a : a*n\n",
    "mydoubler = myfunc(2)\n",
    "print(mydoubler(11))"
   ]
  },
  {
   "cell_type": "markdown",
   "id": "8e34c493",
   "metadata": {},
   "source": [
    "## Questions"
   ]
  },
  {
   "cell_type": "code",
   "execution_count": 6,
   "id": "a4d91588",
   "metadata": {},
   "outputs": [
    {
     "name": "stdout",
     "output_type": "stream",
     "text": [
      "25\n",
      "8\n"
     ]
    }
   ],
   "source": [
    "x = lambda a : a+15\n",
    "z = lambda x,y : x*y\n",
    "print(x(10))\n",
    "print(z(2,4))"
   ]
  },
  {
   "cell_type": "markdown",
   "id": "567eca39",
   "metadata": {},
   "source": [
    "#### 2. Write a Python program to create a function that takes one argument, and that argument will be multiplied with an unknown given number."
   ]
  },
  {
   "cell_type": "code",
   "execution_count": 9,
   "id": "5b33f22c",
   "metadata": {},
   "outputs": [
    {
     "name": "stdout",
     "output_type": "stream",
     "text": [
      "30\n",
      "45\n",
      "60\n",
      "75\n"
     ]
    }
   ],
   "source": [
    "def myfunct(n):\n",
    "    return lambda a: a*n\n",
    "mydoubler = myfunct(2)\n",
    "mytrippler = myfunct(3)\n",
    "myquadrel = myfunct(4)\n",
    "myquintuple = myfunct(5)\n",
    "print(mydoubler(15))\n",
    "print(mytrippler(15))\n",
    "print(myquadrel(15))\n",
    "print(myquintuple(15))"
   ]
  },
  {
   "cell_type": "markdown",
   "id": "4a815ba9",
   "metadata": {},
   "source": [
    "#### 3. Write a Python program to sort a list of tuples using Lambda."
   ]
  },
  {
   "cell_type": "code",
   "execution_count": 12,
   "id": "a1adfcad",
   "metadata": {},
   "outputs": [
    {
     "name": "stdout",
     "output_type": "stream",
     "text": [
      "Original list of tuples \n",
      "[('English', 88), ('Science', 90), ('Maths', 97), ('Social sciences', 82)]\n",
      "\n",
      "sorted list of tuples\n",
      "[('Social sciences', 82), ('English', 88), ('Science', 90), ('Maths', 97)]\n"
     ]
    }
   ],
   "source": [
    "subject_marks = [('English', 88), ('Science', 90), ('Maths', 97), ('Social sciences', 82)]\n",
    "print(\"Original list of tuples \")\n",
    "print(subject_marks)\n",
    "subject_marks.sort(key=lambda x : x[1])\n",
    "print(\"\\nsorted list of tuples\")\n",
    "print(subject_marks)"
   ]
  },
  {
   "cell_type": "markdown",
   "id": "13be7b66",
   "metadata": {},
   "source": [
    "#### 4. Write a Python program to sort a list of dictionaries using Lambda. Go to the editor\n"
   ]
  },
  {
   "cell_type": "code",
   "execution_count": 14,
   "id": "bcca857a",
   "metadata": {},
   "outputs": [
    {
     "name": "stdout",
     "output_type": "stream",
     "text": [
      "Original list of dictionaries\n",
      "[{'make': 'Nokia', 'model': 216, 'color': 'Black'}, {'make': 'Mi Max', 'model': '2', 'color': 'Gold'}, {'make': 'Samsung', 'model': 7, 'color': 'Blue'}]\n",
      "\n",
      "sorted list\n",
      "[{'make': 'Mi Max', 'model': '2', 'color': 'Gold'}, {'make': 'Nokia', 'model': 216, 'color': 'Black'}, {'make': 'Samsung', 'model': 7, 'color': 'Blue'}]\n"
     ]
    }
   ],
   "source": [
    "Original_list= [{'make': 'Nokia', 'model': 216, 'color': 'Black'}, {'make': 'Mi Max', 'model': '2', 'color': 'Gold'}, {'make': 'Samsung', 'model': 7, 'color': 'Blue'}]\n",
    "print(\"Original list of dictionaries\")\n",
    "print(Original_list)\n",
    "sorted_list = sorted(Original_list,key=lambda x :x['make'])\n",
    "print(\"\\nsorted list\")\n",
    "print(sorted_list)\n"
   ]
  },
  {
   "cell_type": "markdown",
   "id": "0b7d514e",
   "metadata": {},
   "source": [
    "#### 5. Write a Python program to filter a list of integers using Lambda."
   ]
  },
  {
   "cell_type": "code",
   "execution_count": 18,
   "id": "6d700442",
   "metadata": {},
   "outputs": [
    {
     "name": "stdout",
     "output_type": "stream",
     "text": [
      "original list\n",
      "[1, 2, 3, 4, 5, 6, 7, 8, 9, 10]\n",
      "\n",
      " even numbers \n",
      "[2, 4, 6, 8, 10]\n",
      "\n",
      "odd numbers\n",
      "[1, 3, 5, 7, 9]\n"
     ]
    }
   ],
   "source": [
    "l = [1, 2, 3, 4, 5, 6, 7, 8, 9, 10]\n",
    "print(\"original list\")\n",
    "print(l)\n",
    "even_numbers = list(filter(lambda x:x%2==0, l))\n",
    "print(\"\\n even numbers \")\n",
    "print(even_numbers)\n",
    "odd_numbers = list(filter(lambda x:x%2!=0, l))\n",
    "print(\"\\nodd numbers\")\n",
    "print(odd_numbers)"
   ]
  },
  {
   "cell_type": "markdown",
   "id": "b95b7617",
   "metadata": {},
   "source": [
    "#### 6. Write a Python program to square and cube every number in a given list of integers using Lambda."
   ]
  },
  {
   "cell_type": "code",
   "execution_count": 21,
   "id": "e995a86c",
   "metadata": {},
   "outputs": [
    {
     "name": "stdout",
     "output_type": "stream",
     "text": [
      "Original numbetrs \n",
      "[1, 2, 3, 4, 5, 6, 7, 8, 9, 10]\n",
      "\n",
      "square of given numbers\n",
      "[1, 4, 9, 16, 25, 36, 49, 64, 81, 100]\n",
      "\n",
      "cube of numbers\n",
      "[1, 8, 27, 64, 125, 216, 343, 512, 729, 1000]\n"
     ]
    }
   ],
   "source": [
    "l = [1, 2, 3, 4, 5, 6, 7, 8, 9, 10]\n",
    "print(\"Original numbetrs \")\n",
    "print(l)\n",
    "square = list(map(lambda x:x**2, l))\n",
    "print(\"\\nsquare of given numbers\")\n",
    "print(square)\n",
    "cube = list(map(lambda x:x**3,l))\n",
    "print(\"\\ncube of numbers\")\n",
    "print(cube)"
   ]
  },
  {
   "cell_type": "markdown",
   "id": "dfb9340e",
   "metadata": {},
   "source": [
    "#### 6. Write a Python program to find whether a given string starts with a given character using Lambda."
   ]
  },
  {
   "cell_type": "code",
   "execution_count": 23,
   "id": "c7e5e7f6",
   "metadata": {},
   "outputs": [
    {
     "name": "stdout",
     "output_type": "stream",
     "text": [
      "False\n"
     ]
    }
   ],
   "source": [
    "start = lambda x : True if x.startswith('P') else False\n",
    "print(start(\"Java\"))"
   ]
  },
  {
   "cell_type": "markdown",
   "id": "19de5930",
   "metadata": {},
   "source": [
    "#### 8. Write a Python program to extract year, month, date and time using Lambda."
   ]
  },
  {
   "cell_type": "code",
   "execution_count": 25,
   "id": "9d81649f",
   "metadata": {},
   "outputs": [
    {
     "name": "stdout",
     "output_type": "stream",
     "text": [
      "2023\n",
      "3\n"
     ]
    }
   ],
   "source": [
    "import datetime\n",
    "now = datetime.datetime.now()\n",
    "year = lambda x:x.year\n",
    "month = lambda x:x.month\n",
    "print(year(now))\n",
    "print(month(now))"
   ]
  },
  {
   "cell_type": "markdown",
   "id": "f03c0dac",
   "metadata": {},
   "source": [
    "# Definition and Usage\n",
    "The map() function executes a specified function for each item in an iterable. The item is sent to the function as a parameter."
   ]
  },
  {
   "cell_type": "markdown",
   "id": "1d757d73",
   "metadata": {},
   "source": [
    "#### 1. Write a Python program to triple all numbers in a given list of integers. Use Python map"
   ]
  },
  {
   "cell_type": "code",
   "execution_count": 28,
   "id": "461c579e",
   "metadata": {},
   "outputs": [
    {
     "name": "stdout",
     "output_type": "stream",
     "text": [
      "Original list \n",
      "[1, 2, 3, 4, 5, 6]\n",
      "\n",
      "triple list \n",
      "[3, 6, 9, 12, 15, 18]\n"
     ]
    }
   ],
   "source": [
    "l = [1,2,3,4,5,6]\n",
    "triple = list(map(lambda x: x*3,l))\n",
    "print(\"Original list \")\n",
    "print(l)\n",
    "print(\"\\ntriple list \")\n",
    "print(triple)"
   ]
  },
  {
   "cell_type": "markdown",
   "id": "d3e291c6",
   "metadata": {},
   "source": [
    "#### 2. Write a Python program to add three given lists using Python map and lambda"
   ]
  },
  {
   "cell_type": "code",
   "execution_count": 29,
   "id": "f319d68f",
   "metadata": {},
   "outputs": [
    {
     "name": "stdout",
     "output_type": "stream",
     "text": [
      "[12, 15, 18]\n"
     ]
    }
   ],
   "source": [
    "nums1 = [1, 2, 3] \n",
    "nums2 = [4, 5, 6] \n",
    "nums3 = [7, 8, 9] \n",
    "result = list(map(lambda x,y,z:x+y+z,nums1,nums2,nums3))\n",
    "print(result)"
   ]
  },
  {
   "cell_type": "markdown",
   "id": "bd07324f",
   "metadata": {},
   "source": [
    "#### 3. Write a Python program to listify the list of given strings individually using Python map."
   ]
  },
  {
   "cell_type": "code",
   "execution_count": null,
   "id": "15c19e27",
   "metadata": {},
   "outputs": [],
   "source": []
  }
 ],
 "metadata": {
  "kernelspec": {
   "display_name": "Python 3 (ipykernel)",
   "language": "python",
   "name": "python3"
  },
  "language_info": {
   "codemirror_mode": {
    "name": "ipython",
    "version": 3
   },
   "file_extension": ".py",
   "mimetype": "text/x-python",
   "name": "python",
   "nbconvert_exporter": "python",
   "pygments_lexer": "ipython3",
   "version": "3.9.12"
  }
 },
 "nbformat": 4,
 "nbformat_minor": 5
}
