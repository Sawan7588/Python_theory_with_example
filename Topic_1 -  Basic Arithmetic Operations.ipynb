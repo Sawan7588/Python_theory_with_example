{
 "cells": [
  {
   "cell_type": "markdown",
   "id": "dbf3dbdf",
   "metadata": {},
   "source": [
    "**Arithmetic operators** are used to perform mathematical operations like addition, subtraction, multiplication and division.\n",
    "\n",
    "There are 7 arithmetic operators in Python :\n",
    "\n",
    "1. Addition\n",
    "2. Subtraction\n",
    "3. Multiplication\n",
    "4. Division\n",
    "5. Modulus\n",
    "6. Exponentiation\n",
    "7. Floor division"
   ]
  },
  {
   "cell_type": "markdown",
   "id": "716e6103",
   "metadata": {},
   "source": [
    "**1. Addition Operator** : In Python, + is the addition operator. It is used to add 2 values."
   ]
  },
  {
   "cell_type": "code",
   "execution_count": 1,
   "id": "ea81fa5d",
   "metadata": {},
   "outputs": [
    {
     "name": "stdout",
     "output_type": "stream",
     "text": [
      "5\n"
     ]
    }
   ],
   "source": [
    "val1 = 2\n",
    "val2 = 3\n",
    "  \n",
    "# using the addition operator\n",
    "res = val1 + val2\n",
    "print(res)"
   ]
  },
  {
   "cell_type": "markdown",
   "id": "6864272b",
   "metadata": {},
   "source": [
    "**2. Subtraction Operator** : In Python, – is the subtraction operator. It is used to subtract the second value from the first values"
   ]
  },
  {
   "cell_type": "code",
   "execution_count": 2,
   "id": "afdf2701",
   "metadata": {},
   "outputs": [
    {
     "name": "stdout",
     "output_type": "stream",
     "text": [
      "-1\n"
     ]
    }
   ],
   "source": [
    "\n",
    "val1 = 2\n",
    "val2 = 3\n",
    "  \n",
    "# using the subtraction operator\n",
    "res = val1 - val2\n",
    "print(res)"
   ]
  },
  {
   "cell_type": "markdown",
   "id": "104b0e9f",
   "metadata": {},
   "source": [
    "**3. Multiplication Operator** : In Python, * is the multiplication operator. It is used to find the product of 2 values."
   ]
  },
  {
   "cell_type": "code",
   "execution_count": 3,
   "id": "ebf58fe5",
   "metadata": {},
   "outputs": [
    {
     "name": "stdout",
     "output_type": "stream",
     "text": [
      "6\n"
     ]
    }
   ],
   "source": [
    "val1 = 2\n",
    "val2 = 3\n",
    "  \n",
    "# using the multiplication operator\n",
    "res = val1 * val2\n",
    "print(res)"
   ]
  },
  {
   "cell_type": "markdown",
   "id": "5ded5c51",
   "metadata": {},
   "source": [
    "**4. Division Operator** : In Python, / is the division operator. It is used to find the quotient when first operand is divided by the second."
   ]
  },
  {
   "cell_type": "code",
   "execution_count": 4,
   "id": "1e2027e0",
   "metadata": {},
   "outputs": [
    {
     "name": "stdout",
     "output_type": "stream",
     "text": [
      "1.5\n"
     ]
    }
   ],
   "source": [
    "\n",
    "val1 = 3\n",
    "val2 = 2\n",
    "  \n",
    "# using the division operator\n",
    "res = val1 / val2\n",
    "print(res)"
   ]
  },
  {
   "cell_type": "markdown",
   "id": "4a015e04",
   "metadata": {},
   "source": [
    "**5. Modulus Operator** : In Python, % is the modulus operator. It is used to find the remainder when first operand is divided by the second."
   ]
  },
  {
   "cell_type": "code",
   "execution_count": 5,
   "id": "00434e65",
   "metadata": {},
   "outputs": [
    {
     "name": "stdout",
     "output_type": "stream",
     "text": [
      "1\n"
     ]
    }
   ],
   "source": [
    "val1 = 3\n",
    "val2 = 2\n",
    "  \n",
    "# using the modulus operator\n",
    "res = val1 % val2\n",
    "print(res)"
   ]
  },
  {
   "cell_type": "markdown",
   "id": "0b53bfee",
   "metadata": {},
   "source": [
    "**6. Exponentiation Operator** : In Python, ** is the exponentiation operator. It is used to raise the first operand to power of second."
   ]
  },
  {
   "cell_type": "code",
   "execution_count": 6,
   "id": "c182d1b8",
   "metadata": {},
   "outputs": [
    {
     "name": "stdout",
     "output_type": "stream",
     "text": [
      "8\n"
     ]
    }
   ],
   "source": [
    "\n",
    "val1 = 2\n",
    "val2 = 3\n",
    "  \n",
    "# using the exponentiation operator\n",
    "res = val1 ** val2\n",
    "print(res)"
   ]
  },
  {
   "cell_type": "markdown",
   "id": "f6573d5c",
   "metadata": {},
   "source": [
    "**7. Floor division** : In Python, // is used to conduct the floor division. It is used to find the floor of the quotient when first operand is divided by the second."
   ]
  },
  {
   "cell_type": "code",
   "execution_count": 7,
   "id": "a2392f76",
   "metadata": {},
   "outputs": [
    {
     "name": "stdout",
     "output_type": "stream",
     "text": [
      "1\n"
     ]
    }
   ],
   "source": [
    "val1 = 3\n",
    "val2 = 2\n",
    "  \n",
    "# using the floor division\n",
    "res = val1 // val2\n",
    "print(res)"
   ]
  }
 ],
 "metadata": {
  "kernelspec": {
   "display_name": "Python 3 (ipykernel)",
   "language": "python",
   "name": "python3"
  },
  "language_info": {
   "codemirror_mode": {
    "name": "ipython",
    "version": 3
   },
   "file_extension": ".py",
   "mimetype": "text/x-python",
   "name": "python",
   "nbconvert_exporter": "python",
   "pygments_lexer": "ipython3",
   "version": "3.9.12"
  }
 },
 "nbformat": 4,
 "nbformat_minor": 5
}
