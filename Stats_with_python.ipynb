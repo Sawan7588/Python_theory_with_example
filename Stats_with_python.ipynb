{
 "cells": [
  {
   "cell_type": "markdown",
   "id": "5720e3d3",
   "metadata": {},
   "source": [
    "## Descriptive Statistics\n",
    "Descriptive Statistics summaries a dataset, which helps in gaining insights, and making inferences about a dataset.\n",
    "\n",
    "In general, we compute statistical measures of one or more samples, related to a population, and draw conclusions about the population.\n",
    "\n",
    "Descriptive Statistics involves estimating centrality measures and measures of dispersion."
   ]
  },
  {
   "cell_type": "markdown",
   "id": "b55f115c",
   "metadata": {},
   "source": [
    "### Centrality Measures\n",
    "Centrality measures determine the center of a dataset.\n",
    "\n",
    "The three major centrality measures are: mean, median, and mode.\n",
    "\n",
    "#### Mean\n",
    "\n",
    "Mean is the sum of all values divided by a total number of values, of a data set.\n",
    "\n",
    "mean function of numpy is used to compute mean marks obtained by five students in a subject s1."
   ]
  },
  {
   "cell_type": "code",
   "execution_count": 1,
   "id": "dc04eb5e",
   "metadata": {},
   "outputs": [
    {
     "name": "stdout",
     "output_type": "stream",
     "text": [
      "53.0\n"
     ]
    }
   ],
   "source": [
    "import numpy as np\n",
    "\n",
    "s1 = np.array([86, 47, 45, 47, 40])\n",
    "print(np.mean(s1))"
   ]
  },
  {
   "cell_type": "markdown",
   "id": "ed1e814b",
   "metadata": {},
   "source": [
    "### Median\n",
    "#### Median\n",
    "\n",
    "Median is the value that separates the given data set into two halves.\n",
    "\n",
    "median function of numpy library can be used to compute median of a data set, as shown here,"
   ]
  },
  {
   "cell_type": "code",
   "execution_count": 2,
   "id": "2a81cee8",
   "metadata": {},
   "outputs": [
    {
     "name": "stdout",
     "output_type": "stream",
     "text": [
      "47.0\n"
     ]
    }
   ],
   "source": [
    "import numpy as np\n",
    "\n",
    "s1 = np.array([86, 47, 45, 47, 40])\n",
    "print(np.median(s1))"
   ]
  },
  {
   "cell_type": "markdown",
   "id": "23e193cd",
   "metadata": {},
   "source": [
    "### Mode\n",
    "#### Mode\n",
    "\n",
    "The value that appears most often in a dataset is called the mode value.\n",
    "\n",
    "mode function of scipy.stats module can be used for computing mode of a given data set."
   ]
  },
  {
   "cell_type": "code",
   "execution_count": 3,
   "id": "e44a3c17",
   "metadata": {},
   "outputs": [
    {
     "name": "stdout",
     "output_type": "stream",
     "text": [
      "ModeResult(mode=array([47]), count=array([2]))\n"
     ]
    }
   ],
   "source": [
    "from scipy import stats\n",
    "import numpy as np\n",
    "s1 = np.array([86, 47, 45, 47, 40])\n",
    "print(stats.mode(s1))"
   ]
  },
  {
   "cell_type": "markdown",
   "id": "69a84ca0",
   "metadata": {},
   "source": [
    "If there are more than a single value, then only the first one is returned by mode function."
   ]
  },
  {
   "cell_type": "markdown",
   "id": "c981237b",
   "metadata": {},
   "source": [
    "### Measures of Dispersion\n",
    "Measures of Dispersion provide insights on the spread of given dataset.\n",
    "\n",
    "Major measures of dispersion are: range, percentile, inter-quartile range, standard deviation, variance, skewness, and kurtosis.\n",
    "\n",
    "#### Range\n",
    "\n",
    "Range is the difference between maximum and minimum values of the dataset."
   ]
  },
  {
   "cell_type": "code",
   "execution_count": 4,
   "id": "f0607beb",
   "metadata": {},
   "outputs": [
    {
     "name": "stdout",
     "output_type": "stream",
     "text": [
      "46\n"
     ]
    }
   ],
   "source": [
    "import numpy as np\n",
    "s1 = np.array([86, 47, 45, 47, 40])\n",
    "print(np.ptp(s1))"
   ]
  },
  {
   "cell_type": "markdown",
   "id": "c6cc1fdf",
   "metadata": {},
   "source": [
    "### Percentile\n",
    "#### Percentile\n",
    "\n",
    "Percentile refers to a value, below which lies given the percentage of data points.\n",
    "\n",
    "E.g., 45th percentile refers to a value below which 45% of data points are found.\n",
    "\n",
    "percentile function of numpy can be used to compute a single or multiple percentiles."
   ]
  },
  {
   "cell_type": "code",
   "execution_count": 6,
   "id": "8f6a06ab",
   "metadata": {},
   "outputs": [
    {
     "name": "stdout",
     "output_type": "stream",
     "text": [
      "65\n"
     ]
    }
   ],
   "source": [
    "import numpy as np\n",
    "\n",
    "s2 = np.array([86, 47, 45, 47, 40, 97, 98, 75, 65, 83])\n",
    "print(np.percentile(s2, 45, interpolation=\"lower\"))"
   ]
  },
  {
   "cell_type": "markdown",
   "id": "3cc2129e",
   "metadata": {},
   "source": [
    "### Quartiles\n",
    "#### Quartiles\n",
    "Three Quartiles namely, Q1 Q2 and Q3, split the entire dataset into four equal parts.\n",
    "\n",
    "Each part contains 25% of data."
   ]
  },
  {
   "cell_type": "code",
   "execution_count": 8,
   "id": "165db9d0",
   "metadata": {},
   "outputs": [
    {
     "name": "stdout",
     "output_type": "stream",
     "text": [
      "[47 65 83]\n"
     ]
    }
   ],
   "source": [
    "import numpy as np\n",
    "\n",
    "s2 = np.array([86, 47, 45, 47, 40, 97, 98, 75, 65, 83])\n",
    "print(np.percentile(s2, [25,50,75], interpolation=\"lower\"))"
   ]
  },
  {
   "cell_type": "markdown",
   "id": "f9880cb7",
   "metadata": {},
   "source": [
    "### Inter Quartile Range (IQR)\n",
    "#### Inter Quartile Range (IQR)\n",
    "Inter quartile range refers to difference between third quartile (Q3) and first quartile (Q1).\n",
    "\n",
    "iqr method from scipy.stats can be used for calculating it."
   ]
  },
  {
   "cell_type": "code",
   "execution_count": 9,
   "id": "cd7023e7",
   "metadata": {},
   "outputs": [
    {
     "name": "stdout",
     "output_type": "stream",
     "text": [
      "36\n"
     ]
    }
   ],
   "source": [
    "from scipy import stats\n",
    "import numpy as np\n",
    "s2 = np.array([86, 47, 45, 47, 40, 97, 98, 75, 65, 83])\n",
    "print(stats.iqr(s2, rng=(25,75), interpolation=\"lower\"))"
   ]
  },
  {
   "cell_type": "markdown",
   "id": "94844e36",
   "metadata": {},
   "source": [
    "### Variance and Standard Deviation\n",
    "#### Variance\n",
    "\n",
    "Variance is defined as the average of squared differences, of each data point from dataset's mean.\n",
    "#### Standard Deviation\n",
    "\n",
    "Standard Deviation is square root of variance.\n",
    "\n",
    "var and std functions of numpy can be used for computing variance and standard deviation respectively.\n",
    "\n",
    "By default, the functions assume that the dataset represents entire population.\n",
    "\n",
    "To represent a sample, derived from a population, ddof parameter is set to 1."
   ]
  },
  {
   "cell_type": "code",
   "execution_count": 10,
   "id": "0b2dedc2",
   "metadata": {},
   "outputs": [
    {
     "name": "stdout",
     "output_type": "stream",
     "text": [
      "454.21000000000004\n",
      "21.312203077110542\n",
      "504.6777777777778\n",
      "22.46503455990615\n"
     ]
    }
   ],
   "source": [
    "import numpy as np\n",
    "\n",
    "s2 = np.array([86, 47, 45, 47, 40, 97, 98, 75, 65, 83])\n",
    "\n",
    "print(np.var(s2))\n",
    "print(np.std(s2))\n",
    "\n",
    "# s2 representing population's sample\n",
    "\n",
    "print(np.var(s2, ddof=1))\n",
    "print(np.std(s2, ddof=1))"
   ]
  },
  {
   "cell_type": "markdown",
   "id": "3a9acd18",
   "metadata": {},
   "source": [
    "### Skewness\n",
    "#### Skewness\n",
    "\n",
    "skewness determines whether the majority of data points are present on one side of the distribution.\n",
    "\n",
    "A positive value represents right skewed distribution; a negative value represents left skewed one, zero represent unskewed distribution."
   ]
  },
  {
   "cell_type": "code",
   "execution_count": 11,
   "id": "980a4e11",
   "metadata": {},
   "outputs": [
    {
     "name": "stdout",
     "output_type": "stream",
     "text": [
      "0.04321019390325423\n"
     ]
    }
   ],
   "source": [
    "from scipy import stats\n",
    "import numpy as np\n",
    "\n",
    "s2 = np.array([86, 47, 45, 47, 40, 97, 98, 75, 65, 83])\n",
    "\n",
    "print(stats.skew(s2))\n"
   ]
  },
  {
   "cell_type": "markdown",
   "id": "bea4692a",
   "metadata": {},
   "source": [
    "### Kurtosis\n",
    "#### Kurtosis\n",
    "\n",
    "Kurtosis indicates how much of data is concentrated around mean or shape of the probability distribution.\n",
    "\n",
    "It can be estimated using kurtosis function of scipy.stats module.\n",
    "\n",
    "By default, it uses Fisher’s definition. This can be changed to Pearson by setting fisher parameter to False."
   ]
  },
  {
   "cell_type": "code",
   "execution_count": 12,
   "id": "97884ffc",
   "metadata": {},
   "outputs": [
    {
     "name": "stdout",
     "output_type": "stream",
     "text": [
      "-1.5694354898634155\n"
     ]
    }
   ],
   "source": [
    "from scipy import stats\n",
    "import numpy as np\n",
    "\n",
    "s2 = np.array([86, 47, 45, 47, 40, 97, 98, 75, 65, 83])\n",
    "\n",
    "print(stats.kurtosis(s2))\n"
   ]
  },
  {
   "cell_type": "markdown",
   "id": "d2ca462d",
   "metadata": {},
   "source": [
    "## Random Numbers"
   ]
  },
  {
   "cell_type": "markdown",
   "id": "26e77bb4",
   "metadata": {},
   "source": [
    "A random number is a number, chosen by chance from a distribution.\n",
    "\n",
    "Python provides a lot of modules, which deal with random numbers.\n",
    "\n",
    "random module of python standard library.\n",
    "random module of Numpy\n",
    "stats module of Scipy"
   ]
  },
  {
   "cell_type": "markdown",
   "id": "28e57f9c",
   "metadata": {},
   "source": [
    "### Numpy's Random Module\n",
    "random module of numpy has utilities, which generate arrays of random numbers.\n",
    "\n",
    "E.g.: rand function generates uniformly distributed numbers from range [0, 1)\n",
    "\n",
    "rand function with no arguments generate a single random value.\n",
    "\n",
    "By passing arguments, it generates a random array of specified size.\n",
    "\n"
   ]
  },
  {
   "cell_type": "code",
   "execution_count": 13,
   "id": "a6a243a1",
   "metadata": {},
   "outputs": [
    {
     "name": "stdout",
     "output_type": "stream",
     "text": [
      "0.4900993583912884\n",
      "[[0.8719898  0.40329016 0.80696628]\n",
      " [0.5683743  0.01408348 0.14694919]]\n"
     ]
    }
   ],
   "source": [
    "import numpy as np\n",
    "print(np.random.rand())\n",
    "\n",
    "# generate a 2*3 array\n",
    "print(np.random.rand(2,3))"
   ]
  },
  {
   "cell_type": "markdown",
   "id": "38067f48",
   "metadata": {},
   "source": [
    "### Random Sampling\n",
    "\n",
    "In statistics, you select items randomly from a population, either with or without a replacement.\n",
    "\n",
    "This can be achieved with choice method as shown below."
   ]
  },
  {
   "cell_type": "code",
   "execution_count": 16,
   "id": "9cf193db",
   "metadata": {},
   "outputs": [
    {
     "name": "stdout",
     "output_type": "stream",
     "text": [
      "33\n"
     ]
    }
   ],
   "source": [
    "import numpy as np\n",
    "\n",
    "print(np.random.choice([11,2,33], replace=False))"
   ]
  },
  {
   "cell_type": "markdown",
   "id": "a0c5d624",
   "metadata": {},
   "source": [
    "### Random Seeding\n",
    "Seed is an important concept when it comes to reproducibility. If you are working with random numbers and you would want to peers to validate your results, i.e., they should also get the same random sequence as you did, you can set the seed to a particular value and send the seed value to your peers.\n",
    "\n",
    "seed is a number that sets the initial state of random number generator.\n",
    "\n",
    "Setting a seed, helps in generating the same sequence of random numbers, repeatedly.\n",
    "\n",
    "seed method of a random module can be used to set a seed as shown in below example."
   ]
  },
  {
   "cell_type": "code",
   "execution_count": 17,
   "id": "c059c627",
   "metadata": {},
   "outputs": [
    {
     "name": "stdout",
     "output_type": "stream",
     "text": [
      "0.5434049417909654\n",
      "0.5434049417909654\n"
     ]
    }
   ],
   "source": [
    "import numpy as np\n",
    "np.random.seed(100)\n",
    "print(np.random.rand())\n",
    "\n",
    "np.random.seed(100)\n",
    "print(np.random.rand())"
   ]
  },
  {
   "cell_type": "markdown",
   "id": "0e5ba734",
   "metadata": {},
   "source": [
    "### Random Variables\n",
    "In probability theory, the set of all possible outcomes of a random experiment is known as sample space.\n",
    "\n",
    "Probabilities of all outcomes of the experiment define the probability distribution.\n",
    "\n",
    "A random variable is a variable that takes real numbers or integers and map each value to one of the outcomes of sample space.\n",
    "\n",
    "E.g.: In an experiment of tossing a coin, the sample space is {'Head', 'Tail'} and a possible random variable takes the value 0 for head and 1 for the tail."
   ]
  },
  {
   "cell_type": "markdown",
   "id": "9abeacab",
   "metadata": {},
   "source": [
    "### Probability Distributions\n",
    "There are two types of probability distributions namely discrete and continuous that take integer and real values, respectively.\n",
    "\n",
    "scipy.stats module provides classes that represent random variables, corresponding to a large number of probability distributions.\n",
    "\n",
    "E.g: the class norm represent normal continuous random variable, and binom represent binomial discrete random variable."
   ]
  },
  {
   "cell_type": "markdown",
   "id": "4bbd68b7",
   "metadata": {},
   "source": [
    "### Random Distributions\n",
    "scipy.stats module provide a lot of methods for created discrete and continuous random variables.\n",
    "\n",
    "Commonly used methods are described below.\n",
    "\n",
    " - pdf / pmf : Probability distribution function (continuous) or probability mass function (discrete).\n",
    " - cdf : Cumulative distribution function.\n",
    " - sf : Survival function (1 – cdf).\n",
    " - rvs : Creating random samples from a distribution."
   ]
  },
  {
   "cell_type": "markdown",
   "id": "4bb35963",
   "metadata": {},
   "source": [
    "### Random Distributions\n",
    "The following example defines a normal continuous random variable of mean 1.0 and std 2.5.\n",
    "\n",
    "It also estimates probabilities and cumulative probabilities at -1, 0 and 1.\n",
    "\n",
    "The example also generates six random numbers from defined normal distribution."
   ]
  },
  {
   "cell_type": "code",
   "execution_count": null,
   "id": "9c6fc056",
   "metadata": {},
   "outputs": [],
   "source": [
    "from scipy import stats\n",
    "\n",
    "x = stats.norm(loc=1.0, scale=2.5)\n",
    "\n",
    "print(x.pdf([-1, 0, 1]))\n",
    "\n",
    "print(x.cdf([-1, 0, 1]))\n",
    "\n",
    "print(x.rvs((2,3)))"
   ]
  },
  {
   "cell_type": "code",
   "execution_count": 18,
   "id": "27ed4793",
   "metadata": {},
   "outputs": [
    {
     "name": "stdout",
     "output_type": "stream",
     "text": [
      "[0.11587662 0.14730806 0.15957691]\n",
      "[0.2118554  0.34457826 0.5       ]\n",
      "[[-0.40409689 -3.12269376  1.88668613]\n",
      " [-0.96516083  0.42031951  1.5199392 ]]\n"
     ]
    }
   ],
   "source": [
    "from scipy import stats\n",
    "\n",
    "x = stats.norm(loc = 1.0, scale=2.5)\n",
    "\n",
    "print(x.pdf([-1,0,1]))\n",
    "\n",
    "print(x.cdf([-1,0,1]))\n",
    "\n",
    "print(x.rvs((2,3)))"
   ]
  },
  {
   "cell_type": "markdown",
   "id": "fe3102c0",
   "metadata": {},
   "source": [
    "### Hypothesis Testing\n",
    "Hypothesis Testing is a methodology for evaluating if a claim is acceptable or not, based on data.\n",
    "\n",
    "In a Hypothesis Testing, a Null Hypothesis (Ho) represents currently accepted the state of knowledge, and an Alternative Hypothesis (Ha) represents a new claim which challenges the currently accepted state of knowledge.\n",
    "\n",
    "The null hypothesis and the alternative hypothesis are mutually exclusive."
   ]
  },
  {
   "cell_type": "markdown",
   "id": "b43c1966",
   "metadata": {},
   "source": [
    "### Steps Involved in Hypothesis Testing\n",
    "The following steps are involved in a Hypothesis Testing:\n",
    "\n",
    " - Define the null hypothesis and the alternative hypothesis.\n",
    "\n",
    " - Select a test statistics whose probability distribution function can be found under the null hypothesis.\n",
    "\n",
    " - Collect data.\n",
    "\n",
    " - Compute the test statistics from the data and calculate its p-value under the null hypothesis.\n",
    "\n",
    " - Null hypothesis is rejected if the p-value is lower than predetermined significance value."
   ]
  },
  {
   "cell_type": "markdown",
   "id": "dc853d89",
   "metadata": {},
   "source": [
    "### Choosing Test Statistics\n",
    "In hypothesis testing, selecting a test statistics is the most difficult part.\n",
    "\n",
    "The methods used for performing t-test are shown below.\n",
    "\n",
    " - stats.ttest_1samp: Tests if the mean of a population is a given value.\n",
    " - stats.ttest_ind: Tests if the means of two independent samples are equal.\n",
    " - stats.ttest_rel: Tests if the means of two paired samples are equal."
   ]
  },
  {
   "cell_type": "markdown",
   "id": "46545774",
   "metadata": {},
   "source": [
    "#### Example 1\n",
    "Let's consider a common hypothesis: Mean of a population is equal to certain value.\n",
    "\n",
    " - In reality, we estimate mean and variance of a sample and calculate the test statistic.\n",
    "\n",
    " - If population variance is identified, then it is reasonable to consider that test statistic is normally distributed.\n",
    "\n",
    " - If population variance is unknown, sample variance is used, and test statistic follows t distribution."
   ]
  },
  {
   "cell_type": "markdown",
   "id": "04c355e4",
   "metadata": {},
   "source": [
    "#### Example 1\n",
    "Consider a normal population with mean 0.8 and standard deviation 0.5.\n",
    "\n",
    "Define the null hypothesis as Mean of the population is 1.0.\n",
    "\n",
    "Let's calculate t-statistic and p-value"
   ]
  },
  {
   "cell_type": "code",
   "execution_count": 19,
   "id": "6fcd8324",
   "metadata": {},
   "outputs": [
    {
     "name": "stdout",
     "output_type": "stream",
     "text": [
      "-4.6096766186175335 1.2053870608536614e-05\n"
     ]
    }
   ],
   "source": [
    "from scipy import stats\n",
    "import numpy as np\n",
    "\n",
    "mu, sigma = 0.8, 0.5\n",
    "X = stats.norm(mu,sigma)\n",
    "\n",
    "# Deriving a sample\n",
    "n = 100\n",
    "X_sample = X.rvs(n)\n",
    "\n",
    "\n",
    "# Computing test statistic\n",
    "t,p = stats.ttest_1samp(X_sample,1.0)\n",
    "print(t,p)"
   ]
  },
  {
   "cell_type": "markdown",
   "id": "3804725b",
   "metadata": {},
   "source": [
    "### Example 1\n",
    "In previous example, the obtained t-statistic value is -4.99 and p-value is 0.0000025.\n",
    "\n",
    "Since p-value is very low and less than the significance level 0.05, you can reject the null hypothesis and infer that the mean of the population is not 1."
   ]
  },
  {
   "cell_type": "markdown",
   "id": "89b6828e",
   "metadata": {},
   "source": [
    "### Example 2\n",
    "Let's consider another problem, where the null hypothesis states that the population means of two random variables are equal.\n",
    "\n",
    "The below example derives two samples from different populations and verifies the claim that their population means are equal."
   ]
  },
  {
   "cell_type": "code",
   "execution_count": 22,
   "id": "f7c30431",
   "metadata": {},
   "outputs": [
    {
     "name": "stdout",
     "output_type": "stream",
     "text": [
      "-0.01580161646661329 0.9874085697378898\n"
     ]
    }
   ],
   "source": [
    "X1 = stats.norm(0.25,1.0)\n",
    "X2 = stats.norm(0.50,1.0)\n",
    "\n",
    "X1_sample = X1.rvs(100)\n",
    "X2_sample = X2.rvs(100)\n",
    "\n",
    "t,p = stats.ttest_ind(X1_sample,X2_sample)\n",
    "print(t,p)"
   ]
  },
  {
   "cell_type": "markdown",
   "id": "dc001af5",
   "metadata": {},
   "source": [
    "### Example 2\n",
    "In previous example, the obtained t-statistic value is -3.126 and p-value is 0.002.\n",
    "\n",
    "Since p-value is very low and less than the significance level 0.05, you can reject the null hypothesis and state that population means of both samples differ."
   ]
  },
  {
   "cell_type": "markdown",
   "id": "5e893ae2",
   "metadata": {},
   "source": [
    "### Statistical Model\n",
    "A Statistical Model is a mathematical equation, which explains the relationship between dependent variables (Y) and independent variables (X).\n",
    "\n",
    "In general, a model is written as"
   ]
  },
  {
   "cell_type": "markdown",
   "id": "0d46fa56",
   "metadata": {},
   "source": [
    "Y = f(X)"
   ]
  },
  {
   "cell_type": "markdown",
   "id": "383716b9",
   "metadata": {},
   "source": [
    "However, in reality, an element of uncertainty is expected due to factors such as measurement noise. Hence the aforementioned equation can be rewritten as"
   ]
  },
  {
   "cell_type": "markdown",
   "id": "6cd6e33e",
   "metadata": {},
   "source": [
    "Y = f(X) + e   'e' is residual error"
   ]
  },
  {
   "cell_type": "markdown",
   "id": "f6b8d099",
   "metadata": {},
   "source": [
    "### Statistical Modelling\n",
    " - Statistical Modelling deals with creating models that attempt to explain the data best.\n",
    "\n",
    " - The simplest model is a linear model represented as Y = B0 + B1*X + e, where the coefficients, B0 and B1 are the parameters of the model and e is normally distributed residual error.\n",
    "\n",
    " - A linear regression model assumes that residuals are independent and normally distributed.\n",
    "\n",
    " - The model is fitted to data using ordinary least squares approach."
   ]
  },
  {
   "cell_type": "markdown",
   "id": "f29b6b86",
   "metadata": {},
   "source": [
    "### Linear Models\n",
    " - In most of the linear regression models, a dependent variable y is written as :\n",
    " - a linear combination of the response variables X i.e y = B0 + B1*X1 + ... + Bn*Xn, or\n",
    " - functions of the response variables i.e y = B0 + B1*X + B2*x^2 + ... + Bn*X^n, or\n",
    " - models that have a linear component i.e y = B0 + B1*sin(X1) + B2*cos(X2)"
   ]
  },
  {
   "cell_type": "markdown",
   "id": "32c0be54",
   "metadata": {},
   "source": [
    "### Non-Linear Models\n",
    " - Other than linear regression models, statistical modeling can be used to build non-linear models.\n",
    "\n",
    " - Errors of dependent variable follow a distribution other than normal distribution.\n",
    "\n",
    " - Examples of non-linear models are: Binomial Regression and Poisson Regression.\n",
    "\n",
    " - In most of the cases, the non-linear models are generalized to linear models."
   ]
  },
  {
   "cell_type": "markdown",
   "id": "1dbbd976",
   "metadata": {},
   "source": [
    "### Design Matrices\n",
    " - In reality, you choose a model and fit the available data to it.\n",
    "\n",
    " - Once a model is chosen, design matrices y and X are constructed, and the regression problem is written, in matrix form, as y = XB + e.\n",
    "\n",
    " - where y is the vector of dependent variables, X is the vector of independent variables, B is a vector of coefficients, and e is the residual (error).\n",
    "\n",
    " - Thus obtained design matrices are passed as inputs to the chosen model."
   ]
  },
  {
   "cell_type": "markdown",
   "id": "d4619582",
   "metadata": {},
   "source": [
    "### Statistical Modelling with StatsModels\n",
    " - statsmodels library supports several types of statistical models.\n",
    "\n",
    " - All of them follow a similar usage pattern.\n",
    "\n",
    " - A Statistical model is represented by a model class.\n",
    "\n",
    " - A model can be initiated with,\n",
    "\n",
    "    - given design matrices of dependent and independent variables, or with\n",
    "    - given patsy formula and data frame or dictionary-like object."
   ]
  },
  {
   "cell_type": "markdown",
   "id": "19091a28",
   "metadata": {},
   "source": [
    "### Step 1: Creating a Model\n",
    "An instance of a model class is created in either of the following ways.\n",
    "\n",
    " - model = sm.MODEL(y, X) or\n",
    " - model = smf.model(patsy_formula, data)\n",
    "where MODEL and model refer to model names such as OLS, GLM, ols, glm, etc.\n",
    "\n",
    "Uppercase names take design matrices as arguments, and lowercase names take Patsy formulas and data frames as arguments."
   ]
  },
  {
   "cell_type": "markdown",
   "id": "43d54081",
   "metadata": {},
   "source": [
    "### Step 2: Fitting a Model\n",
    "In order to fit the model with data, fit method is invoked on the created model, as shown below.\n",
    "\n",
    " - result = model.fit()\n",
    " \n",
    "The fit method returns a result object, which has methods and attributes for further analysis."
   ]
  },
  {
   "cell_type": "markdown",
   "id": "fad5e09f",
   "metadata": {},
   "source": [
    "### Step 3: Viewing Model Summary\n",
    "The summary method of result object produces a summary text that describes the result of the fit, as shown below.\n",
    "\n",
    " - print(result.summary())\n",
    "    \n",
    "The displayed summary text varies for each statistical model and provides information of various statistical parameters."
   ]
  },
  {
   "cell_type": "markdown",
   "id": "c72efd05",
   "metadata": {},
   "source": [
    "### Step 4: Analyzing the Model Further\n",
    "Other than viewing summary statistics, you can perform activities like,\n",
    "\n",
    "  - Determining fitted values,\n",
    "  - Predicting the dependent variable values for new independent variable values.\n",
    "  - Checking if residuals of fitted models follow a normal distribution or not."
   ]
  },
  {
   "cell_type": "markdown",
   "id": "a5f61345",
   "metadata": {},
   "source": [
    "### Constructing Design Matrices\n",
    "The below example shows calculation of design matrices, y, and X, for the considered linear model Y = B0 + B1*X1 + B2*X2 + B3*X1*X2."
   ]
  },
  {
   "cell_type": "code",
   "execution_count": null,
   "id": "b1d7b276",
   "metadata": {},
   "outputs": [],
   "source": [
    "import numpy as np\n",
    "\n",
    "y = np.array([1, 2, 3, 4, 5])\n",
    "x1 = np.array([6, 7, 8, 9, 10])\n",
    "x2 = np.array([11, 12, 13, 14, 15])\n",
    "X = np.vstack([np.ones(5), x1, x2, x1*x2]).T\n",
    "\n",
    "print(y)\n",
    "print(X)"
   ]
  },
  {
   "cell_type": "code",
   "execution_count": 24,
   "id": "61ab125d",
   "metadata": {},
   "outputs": [
    {
     "name": "stdout",
     "output_type": "stream",
     "text": [
      "[1 2 3 4 5]\n",
      "[[  1.   6.  11.  66.]\n",
      " [  1.   7.  12.  84.]\n",
      " [  1.   8.  13. 104.]\n",
      " [  1.   9.  14. 126.]\n",
      " [  1.  10.  15. 150.]]\n"
     ]
    }
   ],
   "source": [
    "import numpy as np\n",
    "\n",
    "y = np.array([1,2,3,4,5])\n",
    "x1 = np.array([6,7,8,9,10])\n",
    "x2 = np.array([11,12,13,14,15])\n",
    "X = np.vstack([np.ones(5), x1, x2, x1*x2]).T\n",
    "\n",
    "print(y)\n",
    "print(X)"
   ]
  },
  {
   "cell_type": "markdown",
   "id": "6dfb472f",
   "metadata": {},
   "source": [
    "Thus obtained design matrices (y and X) can be passed to regression methods for obtaining the coefficient vector."
   ]
  },
  {
   "cell_type": "markdown",
   "id": "7a85dd00",
   "metadata": {},
   "source": [
    "### Design Matrices with patsy\n",
    " - patsy, a python library, allows defining a model in simpler easily.\n",
    "\n",
    " - It also constructs relevant design matrices, automatically, using patsy.dmatrices function.\n",
    "\n",
    " - patsy.dmatrices takes a formula (in string form) as a first argument, and a dictionary-like object with data arrays for the response variables as second arguments."
   ]
  },
  {
   "cell_type": "markdown",
   "id": "759d3edb",
   "metadata": {},
   "source": [
    "### Patsy Design Matrices\n",
    "An example of using patsy.dmatrices function is shown below."
   ]
  },
  {
   "cell_type": "code",
   "execution_count": 25,
   "id": "de410a6d",
   "metadata": {},
   "outputs": [
    {
     "name": "stdout",
     "output_type": "stream",
     "text": [
      "[[1.]\n",
      " [2.]\n",
      " [3.]\n",
      " [4.]\n",
      " [5.]]\n",
      "[[  1.   6.  11.  66.]\n",
      " [  1.   7.  12.  84.]\n",
      " [  1.   8.  13. 104.]\n",
      " [  1.   9.  14. 126.]\n",
      " [  1.  10.  15. 150.]]\n"
     ]
    }
   ],
   "source": [
    "import patsy\n",
    "import numpy as np\n",
    "\n",
    "y = np.array([1, 2, 3, 4, 5])\n",
    "x1 = np.array([6, 7, 8, 9, 10])\n",
    "x2 = np.array([11, 12, 13, 14, 15])\n",
    "data = {'y':y, 'x1':x1, 'x2':x2}\n",
    "\n",
    "y, X = patsy.dmatrices('y ~ 1 + x1 + x2 + x1*x2', data)\n",
    "\n",
    "print(y)\n",
    "print(X)"
   ]
  },
  {
   "cell_type": "markdown",
   "id": "cad6fbaf",
   "metadata": {},
   "source": [
    "### Understanding patsy Formulae\n",
    "Let's understand few patsy formulae provided below.\n",
    "\n",
    " - 'y ~ x' : y is linearly dependent on x. ~ symbol separates dependent variable from independent variable terms. It is also equivalent to 'y ~ 1 + x'.\n",
    "\n",
    " - 'y ~ x1 + x2' : y is a linear combination of x1 and x2. + sign is used to denote the union of terms.\n",
    "\n",
    " - y ~ x1*x2 : x1*x2 is an interaction term that includes all lower order terms. Hence formula is equivalent to y ~ 1 + x1 + x2 + x1*x2."
   ]
  },
  {
   "cell_type": "markdown",
   "id": "915b2982",
   "metadata": {},
   "source": [
    "### Understanding patsy Formulae\n",
    " - 'y ~ np.log(x1)': Often numpy functions can be used to transform terms in the expression.\n",
    "\n",
    " - 'y ~ I(x1 + x2)': I is the identify function, used to escape arithmetic expressions and are evaluated.\n",
    "\n",
    " - 'y ~ C(x1)': Treats the variable x1 as a categorical variable."
   ]
  },
  {
   "cell_type": "markdown",
   "id": "dd06b291",
   "metadata": {},
   "source": [
    "### Example Datasets\n",
    " - statsmodels contain few popular example datasets, which can be used to explore various utilities of the package.\n",
    "\n",
    " - The example data sets are available in datasets module.\n",
    "\n",
    " - Each dataset is associated with special variables like SOURCE, DESCSHORT, DESCLONG, that provide more info about the dataset.\n",
    "\n",
    " - A dataset can be loaded using load function, and its data can be accessed using data attribute in the form of Numpy's recarray."
   ]
  },
  {
   "cell_type": "markdown",
   "id": "4cff6fe4",
   "metadata": {},
   "source": [
    "### Loading Example Datasets\n",
    "The below example shows loading of popular breast cancer dataset and accessing its data as numpy array."
   ]
  },
  {
   "cell_type": "code",
   "execution_count": null,
   "id": "906319fd",
   "metadata": {},
   "outputs": [],
   "source": [
    "import statsmodels.api as sm\n",
    "\n",
    "bc_cancer_set = sm.datasets.cancer\n",
    "\n",
    "bc_cancer = bc_cancer_set.load()\n",
    "\n",
    "bc_cancer_data = bc_cancer.data\n",
    "\n",
    "print(type(bc_cancer_data))"
   ]
  },
  {
   "cell_type": "code",
   "execution_count": 26,
   "id": "5d19dae8",
   "metadata": {},
   "outputs": [
    {
     "name": "stdout",
     "output_type": "stream",
     "text": [
      "<class 'pandas.core.frame.DataFrame'>\n"
     ]
    }
   ],
   "source": [
    "import statsmodels.api as sm\n",
    "\n",
    "bc_cancer_set = sm.datasets.cancer\n",
    "\n",
    "bc_cancer = bc_cancer_set.load()\n",
    "\n",
    "bc_cancer_data = bc_cancer.data\n",
    "\n",
    "print(type(bc_cancer_data))"
   ]
  },
  {
   "cell_type": "markdown",
   "id": "3503e94e",
   "metadata": {},
   "source": [
    "### Loading R Datasets\n",
    "statsmodels package provides access to many example datasets of R, listed at R Datasets repository\n",
    "\n",
    "The below example loads Icecream dataset from Ecdat package."
   ]
  },
  {
   "cell_type": "code",
   "execution_count": 31,
   "id": "e343e794",
   "metadata": {},
   "outputs": [
    {
     "name": "stdout",
     "output_type": "stream",
     "text": [
      "ModeResult(mode=array([6]), count=array([2]))\n"
     ]
    }
   ],
   "source": [
    "from scipy import stats\n",
    "print(stats.mode([8, 9, 8, 7, 9, 6, 7, 6]))"
   ]
  },
  {
   "cell_type": "code",
   "execution_count": 32,
   "id": "a5f6cab7",
   "metadata": {},
   "outputs": [
    {
     "name": "stdout",
     "output_type": "stream",
     "text": [
      "0.3810990309947886\n"
     ]
    }
   ],
   "source": [
    "from scipy.stats import f\n",
    "\n",
    "p = 2\n",
    "q = 27\n",
    "f_statistic = 1\n",
    "\n",
    "cum_prob = 1 - f.cdf(f_statistic, p, q)\n",
    "print(cum_prob)"
   ]
  },
  {
   "cell_type": "code",
   "execution_count": null,
   "id": "4bedcdbc",
   "metadata": {},
   "outputs": [],
   "source": []
  }
 ],
 "metadata": {
  "kernelspec": {
   "display_name": "Python 3 (ipykernel)",
   "language": "python",
   "name": "python3"
  },
  "language_info": {
   "codemirror_mode": {
    "name": "ipython",
    "version": 3
   },
   "file_extension": ".py",
   "mimetype": "text/x-python",
   "name": "python",
   "nbconvert_exporter": "python",
   "pygments_lexer": "ipython3",
   "version": "3.9.12"
  }
 },
 "nbformat": 4,
 "nbformat_minor": 5
}
